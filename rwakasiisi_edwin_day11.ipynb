{
 "cells": [
  {
   "cell_type": "code",
   "execution_count": 1,
   "metadata": {},
   "outputs": [],
   "source": [
    "# Machine Learning\n",
    "# Types of machine Supervised Learning\n",
    "# Unsupervised Learning\n",
    "# Reinforcement learning"
   ]
  },
  {
   "cell_type": "code",
   "execution_count": 2,
   "metadata": {},
   "outputs": [],
   "source": [
    "# Data preprocessing\n",
    "# Data cleaning\n",
    "# Steps\n",
    "# Check for\n",
    "# 1. Duplicates, wrong format, wrong data, empty cell, missing data\n",
    "# Age 23, 230, 1.33, 1.44, 1.50, wrong format, 1/7/2024, 2/7/2024, 372024, NaN, 6/7/2024, Age, BSE KNN of Age in BSE, 23, 20, 12, 19, 41\n",
    "# Handling missing data: remove/delete, imputation (Mean/Median/Mode), use forward/backward filling, KNN or Regression, "
   ]
  },
  {
   "cell_type": "code",
   "execution_count": null,
   "metadata": {},
   "outputs": [],
   "source": [
    "# Exploratory data analysis\n",
    "# Steps\n",
    "# Descriptive Statistics\n",
    "# Measure of Central Tendency, Mean, Median, Mode\n",
    "# Measure of Spread: range, Variance, Standard Deviation, interquartile range\n",
    "# Skewness, Kurtosis\n",
    "# Data  visualization, Histogram - distribution of a single variable, Boxplots - identifying outliers\n",
    "# Scatter plot - examining relationship between two variables\n",
    "# Heatmaps - visualizing correlation metrics"
   ]
  },
  {
   "cell_type": "code",
   "execution_count": null,
   "metadata": {},
   "outputs": [],
   "source": [
    "# Tools for data visualization\n",
    "# 1. Matplotlib, line, bar, scatter and histogram\n",
    "# 2. Seaborn, themes, color palettes, looks more attractive\n",
    "# 3. Plotly\n",
    "# 4. Bokeh"
   ]
  },
  {
   "cell_type": "code",
   "execution_count": null,
   "metadata": {},
   "outputs": [],
   "source": [
    "# Feature Engineering\n",
    "# Selection, Filter like chi-square, ANOVA,\n",
    "# wrapper recursive features\n",
    "# Embedded, Lasso regression\n",
    "\n",
    "# // Feature scaling and Normalization\n",
    "# Normalisation Rescale to a range, (Age, 20-28)\n",
    "# Standard Deviation, transform std\n",
    "\n",
    "# Create new features, Polynomials, iterations"
   ]
  },
  {
   "cell_type": "code",
   "execution_count": null,
   "metadata": {},
   "outputs": [],
   "source": [
    "# Data Splitting\n",
    "# Training and evaluation of a model\n",
    "# Most common ratios, 20 Testing:80 Training, 30:70\n",
    "# import Sckit-learn help to split train_test_split"
   ]
  },
  {
   "cell_type": "code",
   "execution_count": null,
   "metadata": {},
   "outputs": [],
   "source": [
    "# Random state is used to shuffle data before splitting it into a training and test set\n",
    "\n",
    "# Cross validation - evaluate the performance of the data, multiple folds\n",
    "# Types are, train/test we can use K-Fold Cross validation\n",
    "# Stratified k-Fold, Ensure our distribution of the target variable, particularly used in the imbalance dataset\n",
    "# Cross validation helps in reducing variance in model performance estimates\n",
    "# Provides a comprehensive evaluation of model performance"
   ]
  },
  {
   "cell_type": "code",
   "execution_count": null,
   "metadata": {},
   "outputs": [],
   "source": [
    "# Supervised Learning Algorithm\n",
    "# 1. Regression, Linear, Polynomial\n",
    "# 2. Classification\n",
    "# Logistic Regression, k-Nearest Neighbors(KNN), Support Vector Machine (SVM), Decision Trees and Random Forest\n",
    "\n",
    "# Model Evaluation\n",
    "# Metrics: Accuracy, Precision, Recall, F1-Score\n",
    "# Confusion Matrix\n",
    "# AUC and ROC, Area under the curve, Receiver Operating Characteristics Curve\n"
   ]
  },
  {
   "cell_type": "code",
   "execution_count": null,
   "metadata": {},
   "outputs": [],
   "source": [
    "# Summary Supervised Learning\n",
    "# Labelled data, Predict output for new inputs, common task, Classification and Regression\n",
    "\n",
    "# summary Unsupervised Learning\n",
    "# Unlabelled, find hidden patterns or structures in data, common task Like, Clustering, Dimensionality, association rule learning\n",
    "\n",
    "# Definition\n",
    "# Supervised Learning: Learns from labeled data to predict for new inputs\n",
    "# Unsupervised Learning: Learns from unlabeled data to identify patterns and structures with in data."
   ]
  }
 ],
 "metadata": {
  "kernelspec": {
   "display_name": "Python 3",
   "language": "python",
   "name": "python3"
  },
  "language_info": {
   "codemirror_mode": {
    "name": "ipython",
    "version": 3
   },
   "file_extension": ".py",
   "mimetype": "text/x-python",
   "name": "python",
   "nbconvert_exporter": "python",
   "pygments_lexer": "ipython3",
   "version": "3.12.3"
  }
 },
 "nbformat": 4,
 "nbformat_minor": 2
}
